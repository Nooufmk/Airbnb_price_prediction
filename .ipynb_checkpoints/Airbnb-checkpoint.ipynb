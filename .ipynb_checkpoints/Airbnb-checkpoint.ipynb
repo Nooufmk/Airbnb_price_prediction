{
 "cells": [
  {
   "cell_type": "code",
   "execution_count": 261,
   "metadata": {},
   "outputs": [],
   "source": [
    "import numpy as np \n",
    "import pandas as pd \n",
    "import seaborn as sns\n",
    "import matplotlib.pyplot as plt\n",
    "from statsmodels.graphics.gofplots import qqplot\n",
    "from sklearn.model_selection import train_test_split, GridSearchCV\n",
    "%config InlineBackend.figure_format = \"svg\""
   ]
  },
  {
   "cell_type": "code",
   "execution_count": 262,
   "metadata": {},
   "outputs": [],
   "source": [
    "df = pd.read_csv(\"/Users/nouf/Desktop/Airbnb_price_prediction/train.csv\")"
   ]
  },
  {
   "cell_type": "code",
   "execution_count": 263,
   "metadata": {
    "scrolled": false
   },
   "outputs": [
    {
     "data": {
      "text/html": [
       "<div>\n",
       "<style scoped>\n",
       "    .dataframe tbody tr th:only-of-type {\n",
       "        vertical-align: middle;\n",
       "    }\n",
       "\n",
       "    .dataframe tbody tr th {\n",
       "        vertical-align: top;\n",
       "    }\n",
       "\n",
       "    .dataframe thead th {\n",
       "        text-align: right;\n",
       "    }\n",
       "</style>\n",
       "<table border=\"1\" class=\"dataframe\">\n",
       "  <thead>\n",
       "    <tr style=\"text-align: right;\">\n",
       "      <th></th>\n",
       "      <th>id</th>\n",
       "      <th>log_price</th>\n",
       "      <th>property_type</th>\n",
       "      <th>room_type</th>\n",
       "      <th>amenities</th>\n",
       "      <th>accommodates</th>\n",
       "      <th>bathrooms</th>\n",
       "      <th>bed_type</th>\n",
       "      <th>cancellation_policy</th>\n",
       "      <th>cleaning_fee</th>\n",
       "      <th>...</th>\n",
       "      <th>latitude</th>\n",
       "      <th>longitude</th>\n",
       "      <th>name</th>\n",
       "      <th>neighbourhood</th>\n",
       "      <th>number_of_reviews</th>\n",
       "      <th>review_scores_rating</th>\n",
       "      <th>thumbnail_url</th>\n",
       "      <th>zipcode</th>\n",
       "      <th>bedrooms</th>\n",
       "      <th>beds</th>\n",
       "    </tr>\n",
       "  </thead>\n",
       "  <tbody>\n",
       "    <tr>\n",
       "      <th>0</th>\n",
       "      <td>6901257</td>\n",
       "      <td>5.010635</td>\n",
       "      <td>Apartment</td>\n",
       "      <td>Entire home/apt</td>\n",
       "      <td>{\"Wireless Internet\",\"Air conditioning\",Kitche...</td>\n",
       "      <td>3</td>\n",
       "      <td>1.0</td>\n",
       "      <td>Real Bed</td>\n",
       "      <td>strict</td>\n",
       "      <td>True</td>\n",
       "      <td>...</td>\n",
       "      <td>40.696524</td>\n",
       "      <td>-73.991617</td>\n",
       "      <td>Beautiful brownstone 1-bedroom</td>\n",
       "      <td>Brooklyn Heights</td>\n",
       "      <td>2</td>\n",
       "      <td>100.0</td>\n",
       "      <td>https://a0.muscache.com/im/pictures/6d7cbbf7-c...</td>\n",
       "      <td>11201</td>\n",
       "      <td>1.0</td>\n",
       "      <td>1.0</td>\n",
       "    </tr>\n",
       "    <tr>\n",
       "      <th>1</th>\n",
       "      <td>6304928</td>\n",
       "      <td>5.129899</td>\n",
       "      <td>Apartment</td>\n",
       "      <td>Entire home/apt</td>\n",
       "      <td>{\"Wireless Internet\",\"Air conditioning\",Kitche...</td>\n",
       "      <td>7</td>\n",
       "      <td>1.0</td>\n",
       "      <td>Real Bed</td>\n",
       "      <td>strict</td>\n",
       "      <td>True</td>\n",
       "      <td>...</td>\n",
       "      <td>40.766115</td>\n",
       "      <td>-73.989040</td>\n",
       "      <td>Superb 3BR Apt Located Near Times Square</td>\n",
       "      <td>Hell's Kitchen</td>\n",
       "      <td>6</td>\n",
       "      <td>93.0</td>\n",
       "      <td>https://a0.muscache.com/im/pictures/348a55fe-4...</td>\n",
       "      <td>10019</td>\n",
       "      <td>3.0</td>\n",
       "      <td>3.0</td>\n",
       "    </tr>\n",
       "    <tr>\n",
       "      <th>2</th>\n",
       "      <td>7919400</td>\n",
       "      <td>4.976734</td>\n",
       "      <td>Apartment</td>\n",
       "      <td>Entire home/apt</td>\n",
       "      <td>{TV,\"Cable TV\",\"Wireless Internet\",\"Air condit...</td>\n",
       "      <td>5</td>\n",
       "      <td>1.0</td>\n",
       "      <td>Real Bed</td>\n",
       "      <td>moderate</td>\n",
       "      <td>True</td>\n",
       "      <td>...</td>\n",
       "      <td>40.808110</td>\n",
       "      <td>-73.943756</td>\n",
       "      <td>The Garden Oasis</td>\n",
       "      <td>Harlem</td>\n",
       "      <td>10</td>\n",
       "      <td>92.0</td>\n",
       "      <td>https://a0.muscache.com/im/pictures/6fae5362-9...</td>\n",
       "      <td>10027</td>\n",
       "      <td>1.0</td>\n",
       "      <td>3.0</td>\n",
       "    </tr>\n",
       "    <tr>\n",
       "      <th>3</th>\n",
       "      <td>13418779</td>\n",
       "      <td>6.620073</td>\n",
       "      <td>House</td>\n",
       "      <td>Entire home/apt</td>\n",
       "      <td>{TV,\"Cable TV\",Internet,\"Wireless Internet\",Ki...</td>\n",
       "      <td>4</td>\n",
       "      <td>1.0</td>\n",
       "      <td>Real Bed</td>\n",
       "      <td>flexible</td>\n",
       "      <td>True</td>\n",
       "      <td>...</td>\n",
       "      <td>37.772004</td>\n",
       "      <td>-122.431619</td>\n",
       "      <td>Beautiful Flat in the Heart of SF!</td>\n",
       "      <td>Lower Haight</td>\n",
       "      <td>0</td>\n",
       "      <td>NaN</td>\n",
       "      <td>https://a0.muscache.com/im/pictures/72208dad-9...</td>\n",
       "      <td>94117.0</td>\n",
       "      <td>2.0</td>\n",
       "      <td>2.0</td>\n",
       "    </tr>\n",
       "    <tr>\n",
       "      <th>4</th>\n",
       "      <td>3808709</td>\n",
       "      <td>4.744932</td>\n",
       "      <td>Apartment</td>\n",
       "      <td>Entire home/apt</td>\n",
       "      <td>{TV,Internet,\"Wireless Internet\",\"Air conditio...</td>\n",
       "      <td>2</td>\n",
       "      <td>1.0</td>\n",
       "      <td>Real Bed</td>\n",
       "      <td>moderate</td>\n",
       "      <td>True</td>\n",
       "      <td>...</td>\n",
       "      <td>38.925627</td>\n",
       "      <td>-77.034596</td>\n",
       "      <td>Great studio in midtown DC</td>\n",
       "      <td>Columbia Heights</td>\n",
       "      <td>4</td>\n",
       "      <td>40.0</td>\n",
       "      <td>NaN</td>\n",
       "      <td>20009</td>\n",
       "      <td>0.0</td>\n",
       "      <td>1.0</td>\n",
       "    </tr>\n",
       "    <tr>\n",
       "      <th>...</th>\n",
       "      <td>...</td>\n",
       "      <td>...</td>\n",
       "      <td>...</td>\n",
       "      <td>...</td>\n",
       "      <td>...</td>\n",
       "      <td>...</td>\n",
       "      <td>...</td>\n",
       "      <td>...</td>\n",
       "      <td>...</td>\n",
       "      <td>...</td>\n",
       "      <td>...</td>\n",
       "      <td>...</td>\n",
       "      <td>...</td>\n",
       "      <td>...</td>\n",
       "      <td>...</td>\n",
       "      <td>...</td>\n",
       "      <td>...</td>\n",
       "      <td>...</td>\n",
       "      <td>...</td>\n",
       "      <td>...</td>\n",
       "      <td>...</td>\n",
       "    </tr>\n",
       "    <tr>\n",
       "      <th>74106</th>\n",
       "      <td>14549287</td>\n",
       "      <td>4.605170</td>\n",
       "      <td>Apartment</td>\n",
       "      <td>Private room</td>\n",
       "      <td>{}</td>\n",
       "      <td>1</td>\n",
       "      <td>1.0</td>\n",
       "      <td>Real Bed</td>\n",
       "      <td>flexible</td>\n",
       "      <td>False</td>\n",
       "      <td>...</td>\n",
       "      <td>40.709025</td>\n",
       "      <td>-73.939405</td>\n",
       "      <td>one room bushwick</td>\n",
       "      <td>Williamsburg</td>\n",
       "      <td>0</td>\n",
       "      <td>NaN</td>\n",
       "      <td>https://a0.muscache.com/im/pictures/55162426/6...</td>\n",
       "      <td>11206.0</td>\n",
       "      <td>1.0</td>\n",
       "      <td>1.0</td>\n",
       "    </tr>\n",
       "    <tr>\n",
       "      <th>74107</th>\n",
       "      <td>13281809</td>\n",
       "      <td>5.043425</td>\n",
       "      <td>Apartment</td>\n",
       "      <td>Entire home/apt</td>\n",
       "      <td>{TV,\"Cable TV\",Internet,\"Wireless Internet\",Ki...</td>\n",
       "      <td>4</td>\n",
       "      <td>2.0</td>\n",
       "      <td>Real Bed</td>\n",
       "      <td>moderate</td>\n",
       "      <td>True</td>\n",
       "      <td>...</td>\n",
       "      <td>33.871549</td>\n",
       "      <td>-118.396053</td>\n",
       "      <td>Spacious Hermosa 2 BR on PCH</td>\n",
       "      <td>Hermosa Beach</td>\n",
       "      <td>16</td>\n",
       "      <td>93.0</td>\n",
       "      <td>https://a0.muscache.com/im/pictures/2b86560b-a...</td>\n",
       "      <td>90254</td>\n",
       "      <td>2.0</td>\n",
       "      <td>4.0</td>\n",
       "    </tr>\n",
       "    <tr>\n",
       "      <th>74108</th>\n",
       "      <td>18688039</td>\n",
       "      <td>5.220356</td>\n",
       "      <td>Apartment</td>\n",
       "      <td>Entire home/apt</td>\n",
       "      <td>{TV,Internet,\"Wireless Internet\",\"Air conditio...</td>\n",
       "      <td>5</td>\n",
       "      <td>1.0</td>\n",
       "      <td>Real Bed</td>\n",
       "      <td>moderate</td>\n",
       "      <td>True</td>\n",
       "      <td>...</td>\n",
       "      <td>40.706749</td>\n",
       "      <td>-73.942377</td>\n",
       "      <td>Modern 2 Bedroom Apartment in Williamsburg</td>\n",
       "      <td>Williamsburg</td>\n",
       "      <td>43</td>\n",
       "      <td>94.0</td>\n",
       "      <td>https://a0.muscache.com/im/pictures/7fbe448c-5...</td>\n",
       "      <td>11206.0</td>\n",
       "      <td>2.0</td>\n",
       "      <td>2.0</td>\n",
       "    </tr>\n",
       "    <tr>\n",
       "      <th>74109</th>\n",
       "      <td>17045948</td>\n",
       "      <td>5.273000</td>\n",
       "      <td>Apartment</td>\n",
       "      <td>Entire home/apt</td>\n",
       "      <td>{TV,\"Wireless Internet\",\"Air conditioning\",Kit...</td>\n",
       "      <td>2</td>\n",
       "      <td>1.0</td>\n",
       "      <td>Real Bed</td>\n",
       "      <td>strict</td>\n",
       "      <td>True</td>\n",
       "      <td>...</td>\n",
       "      <td>40.738535</td>\n",
       "      <td>-74.000157</td>\n",
       "      <td>Designer's Apartment in HEART of NYC</td>\n",
       "      <td>West Village</td>\n",
       "      <td>0</td>\n",
       "      <td>NaN</td>\n",
       "      <td>https://a0.muscache.com/im/pictures/b3971b63-0...</td>\n",
       "      <td>10011</td>\n",
       "      <td>0.0</td>\n",
       "      <td>2.0</td>\n",
       "    </tr>\n",
       "    <tr>\n",
       "      <th>74110</th>\n",
       "      <td>3534845</td>\n",
       "      <td>4.852030</td>\n",
       "      <td>Boat</td>\n",
       "      <td>Entire home/apt</td>\n",
       "      <td>{TV,Internet,\"Wireless Internet\",Kitchen,\"Free...</td>\n",
       "      <td>4</td>\n",
       "      <td>1.0</td>\n",
       "      <td>Real Bed</td>\n",
       "      <td>moderate</td>\n",
       "      <td>False</td>\n",
       "      <td>...</td>\n",
       "      <td>33.761096</td>\n",
       "      <td>-118.192409</td>\n",
       "      <td>Cozy Boat at Shoreline Village</td>\n",
       "      <td>Long Beach</td>\n",
       "      <td>205</td>\n",
       "      <td>96.0</td>\n",
       "      <td>https://a0.muscache.com/im/pictures/22968537/d...</td>\n",
       "      <td>90802</td>\n",
       "      <td>1.0</td>\n",
       "      <td>2.0</td>\n",
       "    </tr>\n",
       "  </tbody>\n",
       "</table>\n",
       "<p>74111 rows × 29 columns</p>\n",
       "</div>"
      ],
      "text/plain": [
       "             id  log_price property_type        room_type  \\\n",
       "0       6901257   5.010635     Apartment  Entire home/apt   \n",
       "1       6304928   5.129899     Apartment  Entire home/apt   \n",
       "2       7919400   4.976734     Apartment  Entire home/apt   \n",
       "3      13418779   6.620073         House  Entire home/apt   \n",
       "4       3808709   4.744932     Apartment  Entire home/apt   \n",
       "...         ...        ...           ...              ...   \n",
       "74106  14549287   4.605170     Apartment     Private room   \n",
       "74107  13281809   5.043425     Apartment  Entire home/apt   \n",
       "74108  18688039   5.220356     Apartment  Entire home/apt   \n",
       "74109  17045948   5.273000     Apartment  Entire home/apt   \n",
       "74110   3534845   4.852030          Boat  Entire home/apt   \n",
       "\n",
       "                                               amenities  accommodates  \\\n",
       "0      {\"Wireless Internet\",\"Air conditioning\",Kitche...             3   \n",
       "1      {\"Wireless Internet\",\"Air conditioning\",Kitche...             7   \n",
       "2      {TV,\"Cable TV\",\"Wireless Internet\",\"Air condit...             5   \n",
       "3      {TV,\"Cable TV\",Internet,\"Wireless Internet\",Ki...             4   \n",
       "4      {TV,Internet,\"Wireless Internet\",\"Air conditio...             2   \n",
       "...                                                  ...           ...   \n",
       "74106                                                 {}             1   \n",
       "74107  {TV,\"Cable TV\",Internet,\"Wireless Internet\",Ki...             4   \n",
       "74108  {TV,Internet,\"Wireless Internet\",\"Air conditio...             5   \n",
       "74109  {TV,\"Wireless Internet\",\"Air conditioning\",Kit...             2   \n",
       "74110  {TV,Internet,\"Wireless Internet\",Kitchen,\"Free...             4   \n",
       "\n",
       "       bathrooms  bed_type cancellation_policy  cleaning_fee  ...   latitude  \\\n",
       "0            1.0  Real Bed              strict          True  ...  40.696524   \n",
       "1            1.0  Real Bed              strict          True  ...  40.766115   \n",
       "2            1.0  Real Bed            moderate          True  ...  40.808110   \n",
       "3            1.0  Real Bed            flexible          True  ...  37.772004   \n",
       "4            1.0  Real Bed            moderate          True  ...  38.925627   \n",
       "...          ...       ...                 ...           ...  ...        ...   \n",
       "74106        1.0  Real Bed            flexible         False  ...  40.709025   \n",
       "74107        2.0  Real Bed            moderate          True  ...  33.871549   \n",
       "74108        1.0  Real Bed            moderate          True  ...  40.706749   \n",
       "74109        1.0  Real Bed              strict          True  ...  40.738535   \n",
       "74110        1.0  Real Bed            moderate         False  ...  33.761096   \n",
       "\n",
       "        longitude                                        name  \\\n",
       "0      -73.991617              Beautiful brownstone 1-bedroom   \n",
       "1      -73.989040    Superb 3BR Apt Located Near Times Square   \n",
       "2      -73.943756                            The Garden Oasis   \n",
       "3     -122.431619          Beautiful Flat in the Heart of SF!   \n",
       "4      -77.034596                  Great studio in midtown DC   \n",
       "...           ...                                         ...   \n",
       "74106  -73.939405                           one room bushwick   \n",
       "74107 -118.396053                Spacious Hermosa 2 BR on PCH   \n",
       "74108  -73.942377  Modern 2 Bedroom Apartment in Williamsburg   \n",
       "74109  -74.000157        Designer's Apartment in HEART of NYC   \n",
       "74110 -118.192409              Cozy Boat at Shoreline Village   \n",
       "\n",
       "          neighbourhood number_of_reviews review_scores_rating  \\\n",
       "0      Brooklyn Heights                 2                100.0   \n",
       "1        Hell's Kitchen                 6                 93.0   \n",
       "2                Harlem                10                 92.0   \n",
       "3          Lower Haight                 0                  NaN   \n",
       "4      Columbia Heights                 4                 40.0   \n",
       "...                 ...               ...                  ...   \n",
       "74106      Williamsburg                 0                  NaN   \n",
       "74107     Hermosa Beach                16                 93.0   \n",
       "74108      Williamsburg                43                 94.0   \n",
       "74109      West Village                 0                  NaN   \n",
       "74110        Long Beach               205                 96.0   \n",
       "\n",
       "                                           thumbnail_url  zipcode bedrooms  \\\n",
       "0      https://a0.muscache.com/im/pictures/6d7cbbf7-c...    11201      1.0   \n",
       "1      https://a0.muscache.com/im/pictures/348a55fe-4...    10019      3.0   \n",
       "2      https://a0.muscache.com/im/pictures/6fae5362-9...    10027      1.0   \n",
       "3      https://a0.muscache.com/im/pictures/72208dad-9...  94117.0      2.0   \n",
       "4                                                    NaN    20009      0.0   \n",
       "...                                                  ...      ...      ...   \n",
       "74106  https://a0.muscache.com/im/pictures/55162426/6...  11206.0      1.0   \n",
       "74107  https://a0.muscache.com/im/pictures/2b86560b-a...    90254      2.0   \n",
       "74108  https://a0.muscache.com/im/pictures/7fbe448c-5...  11206.0      2.0   \n",
       "74109  https://a0.muscache.com/im/pictures/b3971b63-0...    10011      0.0   \n",
       "74110  https://a0.muscache.com/im/pictures/22968537/d...    90802      1.0   \n",
       "\n",
       "       beds  \n",
       "0       1.0  \n",
       "1       3.0  \n",
       "2       3.0  \n",
       "3       2.0  \n",
       "4       1.0  \n",
       "...     ...  \n",
       "74106   1.0  \n",
       "74107   4.0  \n",
       "74108   2.0  \n",
       "74109   2.0  \n",
       "74110   2.0  \n",
       "\n",
       "[74111 rows x 29 columns]"
      ]
     },
     "execution_count": 263,
     "metadata": {},
     "output_type": "execute_result"
    }
   ],
   "source": [
    "df"
   ]
  },
  {
   "cell_type": "code",
   "execution_count": 264,
   "metadata": {},
   "outputs": [
    {
     "data": {
      "text/plain": [
       "Apartment             49003\n",
       "House                 16511\n",
       "Condominium            2658\n",
       "Townhouse              1692\n",
       "Loft                   1244\n",
       "Other                   607\n",
       "Guesthouse              498\n",
       "Bed & Breakfast         462\n",
       "Bungalow                366\n",
       "Villa                   179\n",
       "Dorm                    142\n",
       "Guest suite             123\n",
       "Camper/RV                94\n",
       "Timeshare                77\n",
       "Cabin                    72\n",
       "In-law                   71\n",
       "Hostel                   70\n",
       "Boutique hotel           69\n",
       "Boat                     65\n",
       "Serviced apartment       21\n",
       "Tent                     18\n",
       "Castle                   13\n",
       "Vacation home            11\n",
       "Yurt                      9\n",
       "Hut                       8\n",
       "Treehouse                 7\n",
       "Chalet                    6\n",
       "Earth House               4\n",
       "Tipi                      3\n",
       "Train                     2\n",
       "Cave                      2\n",
       "Parking Space             1\n",
       "Lighthouse                1\n",
       "Island                    1\n",
       "Casa particular           1\n",
       "Name: property_type, dtype: int64"
      ]
     },
     "execution_count": 264,
     "metadata": {},
     "output_type": "execute_result"
    }
   ],
   "source": [
    "df.property_type.value_counts()"
   ]
  },
  {
   "cell_type": "markdown",
   "metadata": {},
   "source": [
    "# Splits"
   ]
  },
  {
   "cell_type": "code",
   "execution_count": 265,
   "metadata": {},
   "outputs": [],
   "source": [
    "#df, validation_df  = train_test_split(data,\n",
    "#                                test_size=0.25,\n",
    "#                                random_state = 101)"
   ]
  },
  {
   "cell_type": "code",
   "execution_count": 266,
   "metadata": {},
   "outputs": [],
   "source": [
    "#df_train, df_test  = train_test_split(df,\n",
    "#                                test_size=0.25,\n",
    "#                                random_state = 101)"
   ]
  },
  {
   "cell_type": "markdown",
   "metadata": {},
   "source": [
    "# info"
   ]
  },
  {
   "cell_type": "code",
   "execution_count": 267,
   "metadata": {},
   "outputs": [
    {
     "name": "stdout",
     "output_type": "stream",
     "text": [
      "<class 'pandas.core.frame.DataFrame'>\n",
      "RangeIndex: 74111 entries, 0 to 74110\n",
      "Data columns (total 29 columns):\n",
      " #   Column                  Non-Null Count  Dtype  \n",
      "---  ------                  --------------  -----  \n",
      " 0   id                      74111 non-null  int64  \n",
      " 1   log_price               74111 non-null  float64\n",
      " 2   property_type           74111 non-null  object \n",
      " 3   room_type               74111 non-null  object \n",
      " 4   amenities               74111 non-null  object \n",
      " 5   accommodates            74111 non-null  int64  \n",
      " 6   bathrooms               73911 non-null  float64\n",
      " 7   bed_type                74111 non-null  object \n",
      " 8   cancellation_policy     74111 non-null  object \n",
      " 9   cleaning_fee            74111 non-null  bool   \n",
      " 10  city                    74111 non-null  object \n",
      " 11  description             74111 non-null  object \n",
      " 12  first_review            58247 non-null  object \n",
      " 13  host_has_profile_pic    73923 non-null  object \n",
      " 14  host_identity_verified  73923 non-null  object \n",
      " 15  host_response_rate      55812 non-null  object \n",
      " 16  host_since              73923 non-null  object \n",
      " 17  instant_bookable        74111 non-null  object \n",
      " 18  last_review             58284 non-null  object \n",
      " 19  latitude                74111 non-null  float64\n",
      " 20  longitude               74111 non-null  float64\n",
      " 21  name                    74111 non-null  object \n",
      " 22  neighbourhood           67239 non-null  object \n",
      " 23  number_of_reviews       74111 non-null  int64  \n",
      " 24  review_scores_rating    57389 non-null  float64\n",
      " 25  thumbnail_url           65895 non-null  object \n",
      " 26  zipcode                 73145 non-null  object \n",
      " 27  bedrooms                74020 non-null  float64\n",
      " 28  beds                    73980 non-null  float64\n",
      "dtypes: bool(1), float64(7), int64(3), object(18)\n",
      "memory usage: 15.9+ MB\n"
     ]
    }
   ],
   "source": [
    "df.info()"
   ]
  },
  {
   "cell_type": "markdown",
   "metadata": {},
   "source": [
    "# Finding missing values"
   ]
  },
  {
   "cell_type": "code",
   "execution_count": 268,
   "metadata": {},
   "outputs": [
    {
     "data": {
      "text/plain": [
       "id                            0\n",
       "log_price                     0\n",
       "property_type                 0\n",
       "room_type                     0\n",
       "amenities                     0\n",
       "accommodates                  0\n",
       "bathrooms                   200\n",
       "bed_type                      0\n",
       "cancellation_policy           0\n",
       "cleaning_fee                  0\n",
       "city                          0\n",
       "description                   0\n",
       "first_review              15864\n",
       "host_has_profile_pic        188\n",
       "host_identity_verified      188\n",
       "host_response_rate        18299\n",
       "host_since                  188\n",
       "instant_bookable              0\n",
       "last_review               15827\n",
       "latitude                      0\n",
       "longitude                     0\n",
       "name                          0\n",
       "neighbourhood              6872\n",
       "number_of_reviews             0\n",
       "review_scores_rating      16722\n",
       "thumbnail_url              8216\n",
       "zipcode                     966\n",
       "bedrooms                     91\n",
       "beds                        131\n",
       "dtype: int64"
      ]
     },
     "execution_count": 268,
     "metadata": {},
     "output_type": "execute_result"
    }
   ],
   "source": [
    "df.isnull().sum()"
   ]
  },
  {
   "cell_type": "markdown",
   "metadata": {},
   "source": [
    "# Date"
   ]
  },
  {
   "cell_type": "code",
   "execution_count": 269,
   "metadata": {},
   "outputs": [],
   "source": [
    "df[\"last_review\"] = pd.to_datetime(df[\"last_review\"])\n",
    "df[\"first_review\"] = pd.to_datetime(df[\"first_review\"])\n",
    "df[\"host_since\"] = pd.to_datetime(df[\"host_since\"])"
   ]
  },
  {
   "cell_type": "markdown",
   "metadata": {},
   "source": [
    "# Replacing missing values "
   ]
  },
  {
   "cell_type": "code",
   "execution_count": 270,
   "metadata": {},
   "outputs": [],
   "source": [
    "df.last_review.fillna(method=\"ffill\",inplace=True)\n",
    "df.first_review.fillna(method=\"ffill\",inplace=True)\n",
    "df.host_since.fillna(method=\"ffill\",inplace=True)"
   ]
  },
  {
   "cell_type": "markdown",
   "metadata": {},
   "source": [
    "# Handling Missing Values "
   ]
  },
  {
   "cell_type": "markdown",
   "metadata": {},
   "source": [
    "> #### 1. Bathrooms"
   ]
  },
  {
   "cell_type": "code",
   "execution_count": 271,
   "metadata": {},
   "outputs": [
    {
     "data": {
      "text/plain": [
       "array([1. , 1.5, 2. , nan, 2.5, 3. , 0.5, 4.5, 5. , 0. , 4. , 3.5, 5.5,\n",
       "       7.5, 6. , 8. , 7. , 6.5])"
      ]
     },
     "execution_count": 271,
     "metadata": {},
     "output_type": "execute_result"
    }
   ],
   "source": [
    "df.bathrooms.unique()"
   ]
  },
  {
   "cell_type": "markdown",
   "metadata": {},
   "source": [
    "^ It is not logical for the bathrooms to be the flutes numbers, because in fact, for example, there is no bathroom and a half!"
   ]
  },
  {
   "cell_type": "code",
   "execution_count": 272,
   "metadata": {},
   "outputs": [],
   "source": [
    "df[\"bathrooms\"]=df[\"bathrooms\"].round()"
   ]
  },
  {
   "cell_type": "code",
   "execution_count": 273,
   "metadata": {},
   "outputs": [
    {
     "data": {
      "text/plain": [
       "0    1.0\n",
       "dtype: float64"
      ]
     },
     "execution_count": 273,
     "metadata": {},
     "output_type": "execute_result"
    }
   ],
   "source": [
    "df[\"bathrooms\"].mode()"
   ]
  },
  {
   "cell_type": "code",
   "execution_count": 274,
   "metadata": {},
   "outputs": [
    {
     "data": {
      "text/plain": [
       "1.2513022418855109"
      ]
     },
     "execution_count": 274,
     "metadata": {},
     "output_type": "execute_result"
    }
   ],
   "source": [
    "df[\"bathrooms\"].mean()"
   ]
  },
  {
   "cell_type": "code",
   "execution_count": 275,
   "metadata": {},
   "outputs": [],
   "source": [
    "df[\"bathrooms\"] = df['bathrooms'].fillna(round(df[\"bathrooms\"].mean()))"
   ]
  },
  {
   "cell_type": "code",
   "execution_count": 276,
   "metadata": {},
   "outputs": [],
   "source": [
    "#df[\"bathrooms\"] = df['bathrooms'].fillna(df[\"bathrooms\"].mode())"
   ]
  },
  {
   "cell_type": "code",
   "execution_count": 277,
   "metadata": {},
   "outputs": [
    {
     "data": {
      "text/plain": [
       "1.0    58299\n",
       "2.0    13304\n",
       "3.0     1066\n",
       "4.0      831\n",
       "0.0      407\n",
       "6.0       75\n",
       "5.0       72\n",
       "8.0       47\n",
       "7.0       10\n",
       "Name: bathrooms, dtype: int64"
      ]
     },
     "execution_count": 277,
     "metadata": {},
     "output_type": "execute_result"
    }
   ],
   "source": [
    "df[\"bathrooms\"].value_counts()"
   ]
  },
  {
   "cell_type": "markdown",
   "metadata": {},
   "source": [
    "> #### 2. review"
   ]
  },
  {
   "cell_type": "markdown",
   "metadata": {},
   "source": [
    "Missing values in column \"review_scores_rating\" are related to column \"number_of_reviews\"."
   ]
  },
  {
   "cell_type": "code",
   "execution_count": 278,
   "metadata": {},
   "outputs": [
    {
     "data": {
      "text/html": [
       "<div>\n",
       "<style scoped>\n",
       "    .dataframe tbody tr th:only-of-type {\n",
       "        vertical-align: middle;\n",
       "    }\n",
       "\n",
       "    .dataframe tbody tr th {\n",
       "        vertical-align: top;\n",
       "    }\n",
       "\n",
       "    .dataframe thead th {\n",
       "        text-align: right;\n",
       "    }\n",
       "</style>\n",
       "<table border=\"1\" class=\"dataframe\">\n",
       "  <thead>\n",
       "    <tr style=\"text-align: right;\">\n",
       "      <th></th>\n",
       "      <th>number_of_reviews</th>\n",
       "      <th>review_scores_rating</th>\n",
       "    </tr>\n",
       "  </thead>\n",
       "  <tbody>\n",
       "    <tr>\n",
       "      <th>3</th>\n",
       "      <td>0</td>\n",
       "      <td>NaN</td>\n",
       "    </tr>\n",
       "    <tr>\n",
       "      <th>12</th>\n",
       "      <td>0</td>\n",
       "      <td>NaN</td>\n",
       "    </tr>\n",
       "    <tr>\n",
       "      <th>15</th>\n",
       "      <td>0</td>\n",
       "      <td>NaN</td>\n",
       "    </tr>\n",
       "    <tr>\n",
       "      <th>24</th>\n",
       "      <td>0</td>\n",
       "      <td>NaN</td>\n",
       "    </tr>\n",
       "    <tr>\n",
       "      <th>31</th>\n",
       "      <td>0</td>\n",
       "      <td>NaN</td>\n",
       "    </tr>\n",
       "    <tr>\n",
       "      <th>...</th>\n",
       "      <td>...</td>\n",
       "      <td>...</td>\n",
       "    </tr>\n",
       "    <tr>\n",
       "      <th>74083</th>\n",
       "      <td>0</td>\n",
       "      <td>NaN</td>\n",
       "    </tr>\n",
       "    <tr>\n",
       "      <th>74089</th>\n",
       "      <td>0</td>\n",
       "      <td>NaN</td>\n",
       "    </tr>\n",
       "    <tr>\n",
       "      <th>74095</th>\n",
       "      <td>0</td>\n",
       "      <td>NaN</td>\n",
       "    </tr>\n",
       "    <tr>\n",
       "      <th>74106</th>\n",
       "      <td>0</td>\n",
       "      <td>NaN</td>\n",
       "    </tr>\n",
       "    <tr>\n",
       "      <th>74109</th>\n",
       "      <td>0</td>\n",
       "      <td>NaN</td>\n",
       "    </tr>\n",
       "  </tbody>\n",
       "</table>\n",
       "<p>15819 rows × 2 columns</p>\n",
       "</div>"
      ],
      "text/plain": [
       "       number_of_reviews  review_scores_rating\n",
       "3                      0                   NaN\n",
       "12                     0                   NaN\n",
       "15                     0                   NaN\n",
       "24                     0                   NaN\n",
       "31                     0                   NaN\n",
       "...                  ...                   ...\n",
       "74083                  0                   NaN\n",
       "74089                  0                   NaN\n",
       "74095                  0                   NaN\n",
       "74106                  0                   NaN\n",
       "74109                  0                   NaN\n",
       "\n",
       "[15819 rows x 2 columns]"
      ]
     },
     "execution_count": 278,
     "metadata": {},
     "output_type": "execute_result"
    }
   ],
   "source": [
    "df[[\"number_of_reviews\",\"review_scores_rating\"]][df.number_of_reviews == 0]"
   ]
  },
  {
   "cell_type": "code",
   "execution_count": 279,
   "metadata": {},
   "outputs": [],
   "source": [
    "df[\"review_scores_rating\"] = df[\"review_scores_rating\"].fillna(0)"
   ]
  },
  {
   "cell_type": "markdown",
   "metadata": {},
   "source": [
    "> #### 3. bedrooms"
   ]
  },
  {
   "cell_type": "code",
   "execution_count": 280,
   "metadata": {},
   "outputs": [
    {
     "data": {
      "text/plain": [
       "1.265793028911105"
      ]
     },
     "execution_count": 280,
     "metadata": {},
     "output_type": "execute_result"
    }
   ],
   "source": [
    "df[\"bedrooms\"].mean()"
   ]
  },
  {
   "cell_type": "code",
   "execution_count": 281,
   "metadata": {},
   "outputs": [
    {
     "data": {
      "text/plain": [
       "0    1.0\n",
       "dtype: float64"
      ]
     },
     "execution_count": 281,
     "metadata": {},
     "output_type": "execute_result"
    }
   ],
   "source": [
    "df[\"bedrooms\"].mode()"
   ]
  },
  {
   "cell_type": "code",
   "execution_count": 282,
   "metadata": {},
   "outputs": [],
   "source": [
    "#df[\"bedrooms\"] = df['bedrooms'].fillna(df[\"bedrooms\"].mode())"
   ]
  },
  {
   "cell_type": "code",
   "execution_count": 283,
   "metadata": {},
   "outputs": [],
   "source": [
    "df[\"bedrooms\"] = df[\"bedrooms\"].fillna(1.0)"
   ]
  },
  {
   "cell_type": "markdown",
   "metadata": {},
   "source": [
    "> #### 4. Beds"
   ]
  },
  {
   "cell_type": "code",
   "execution_count": 284,
   "metadata": {},
   "outputs": [
    {
     "data": {
      "text/plain": [
       "1.710867802108678"
      ]
     },
     "execution_count": 284,
     "metadata": {},
     "output_type": "execute_result"
    }
   ],
   "source": [
    "df[\"beds\"].mean()"
   ]
  },
  {
   "cell_type": "code",
   "execution_count": 285,
   "metadata": {},
   "outputs": [
    {
     "data": {
      "text/plain": [
       "0    1.0\n",
       "dtype: float64"
      ]
     },
     "execution_count": 285,
     "metadata": {},
     "output_type": "execute_result"
    }
   ],
   "source": [
    "df[\"beds\"].mode()"
   ]
  },
  {
   "cell_type": "code",
   "execution_count": 286,
   "metadata": {},
   "outputs": [],
   "source": [
    "df[\"beds\"] = df[\"beds\"].fillna(2.0)"
   ]
  },
  {
   "cell_type": "markdown",
   "metadata": {},
   "source": [
    "> #### 5. host has profile pic"
   ]
  },
  {
   "cell_type": "code",
   "execution_count": 287,
   "metadata": {},
   "outputs": [
    {
     "data": {
      "text/plain": [
       "0        t\n",
       "1        t\n",
       "2        t\n",
       "3        t\n",
       "4        t\n",
       "        ..\n",
       "74106    t\n",
       "74107    t\n",
       "74108    t\n",
       "74109    t\n",
       "74110    t\n",
       "Name: host_has_profile_pic, Length: 74111, dtype: object"
      ]
     },
     "execution_count": 287,
     "metadata": {},
     "output_type": "execute_result"
    }
   ],
   "source": [
    "df.host_has_profile_pic"
   ]
  },
  {
   "cell_type": "code",
   "execution_count": 288,
   "metadata": {},
   "outputs": [
    {
     "data": {
      "text/plain": [
       "0        t\n",
       "1        f\n",
       "2        t\n",
       "3        t\n",
       "4        t\n",
       "        ..\n",
       "74106    t\n",
       "74107    f\n",
       "74108    t\n",
       "74109    f\n",
       "74110    t\n",
       "Name: host_identity_verified, Length: 74111, dtype: object"
      ]
     },
     "execution_count": 288,
     "metadata": {},
     "output_type": "execute_result"
    }
   ],
   "source": [
    "df.host_identity_verified"
   ]
  },
  {
   "cell_type": "markdown",
   "metadata": {},
   "source": [
    "the columns host_has_profile_pic and host_identity_verified has boolean values true and false¶\n"
   ]
  },
  {
   "cell_type": "code",
   "execution_count": 289,
   "metadata": {},
   "outputs": [],
   "source": [
    "df.replace(to_replace = \"t\", value = 1,inplace=True) \n",
    "df.replace(to_replace = \"f\", value = 0,inplace=True) "
   ]
  },
  {
   "cell_type": "markdown",
   "metadata": {},
   "source": [
    "### Changed the datatype to bool of these two columns:"
   ]
  },
  {
   "cell_type": "code",
   "execution_count": 290,
   "metadata": {},
   "outputs": [],
   "source": [
    "df[\"host_has_profile_pic\"] = df[\"host_has_profile_pic\"].astype(\"bool\")\n",
    "df[\"host_identity_verified\"] = df[\"host_identity_verified\"].astype(\"bool\")"
   ]
  },
  {
   "cell_type": "markdown",
   "metadata": {},
   "source": [
    "> #### 6.host response rate"
   ]
  },
  {
   "cell_type": "code",
   "execution_count": 291,
   "metadata": {},
   "outputs": [],
   "source": [
    "df.host_response_rate = df.host_response_rate.apply(\n",
    "    lambda x: int(x[:len(x)-1])/100\n",
    "     if isinstance(x,str) else x )\n",
    "\n",
    "\n",
    "df.host_response_rate = df.host_response_rate.fillna(df.host_response_rate.mean())"
   ]
  },
  {
   "cell_type": "markdown",
   "metadata": {},
   "source": [
    "> #### 7.drob"
   ]
  },
  {
   "cell_type": "code",
   "execution_count": 292,
   "metadata": {},
   "outputs": [],
   "source": [
    "#id\n",
    "#description\n",
    " ##first_review\n",
    " ##last_review\n",
    " ##host_since\n",
    "#host_has_profile_pic\n",
    "#name\n",
    "#thumbnail_url\n",
    "#zipcode\n",
    "#neighbourhood"
   ]
  },
  {
   "cell_type": "code",
   "execution_count": 293,
   "metadata": {},
   "outputs": [
    {
     "data": {
      "text/plain": [
       "Index(['log_price', 'property_type', 'room_type', 'amenities', 'accommodates',\n",
       "       'bathrooms', 'bed_type', 'cancellation_policy', 'cleaning_fee', 'city',\n",
       "       'host_identity_verified', 'host_response_rate', 'instant_bookable',\n",
       "       'latitude', 'longitude', 'number_of_reviews', 'review_scores_rating',\n",
       "       'bedrooms', 'beds'],\n",
       "      dtype='object')"
      ]
     },
     "execution_count": 293,
     "metadata": {},
     "output_type": "execute_result"
    }
   ],
   "source": [
    "df1 = df.drop(['id','description','first_review','last_review','host_since',\n",
    "                          'host_has_profile_pic','name','thumbnail_url','zipcode','neighbourhood'],axis=1)\n",
    "df1.columns"
   ]
  },
  {
   "cell_type": "code",
   "execution_count": 294,
   "metadata": {},
   "outputs": [
    {
     "data": {
      "text/plain": [
       "log_price                 0\n",
       "property_type             0\n",
       "room_type                 0\n",
       "amenities                 0\n",
       "accommodates              0\n",
       "bathrooms                 0\n",
       "bed_type                  0\n",
       "cancellation_policy       0\n",
       "cleaning_fee              0\n",
       "city                      0\n",
       "host_identity_verified    0\n",
       "host_response_rate        0\n",
       "instant_bookable          0\n",
       "latitude                  0\n",
       "longitude                 0\n",
       "number_of_reviews         0\n",
       "review_scores_rating      0\n",
       "bedrooms                  0\n",
       "beds                      0\n",
       "dtype: int64"
      ]
     },
     "execution_count": 294,
     "metadata": {},
     "output_type": "execute_result"
    }
   ],
   "source": [
    "df1.isna().sum()"
   ]
  },
  {
   "cell_type": "code",
   "execution_count": 295,
   "metadata": {
    "scrolled": true
   },
   "outputs": [
    {
     "data": {
      "text/html": [
       "<div>\n",
       "<style scoped>\n",
       "    .dataframe tbody tr th:only-of-type {\n",
       "        vertical-align: middle;\n",
       "    }\n",
       "\n",
       "    .dataframe tbody tr th {\n",
       "        vertical-align: top;\n",
       "    }\n",
       "\n",
       "    .dataframe thead th {\n",
       "        text-align: right;\n",
       "    }\n",
       "</style>\n",
       "<table border=\"1\" class=\"dataframe\">\n",
       "  <thead>\n",
       "    <tr style=\"text-align: right;\">\n",
       "      <th></th>\n",
       "      <th>log_price</th>\n",
       "      <th>property_type</th>\n",
       "      <th>room_type</th>\n",
       "      <th>amenities</th>\n",
       "      <th>accommodates</th>\n",
       "      <th>bathrooms</th>\n",
       "      <th>bed_type</th>\n",
       "      <th>cancellation_policy</th>\n",
       "      <th>cleaning_fee</th>\n",
       "      <th>city</th>\n",
       "      <th>host_identity_verified</th>\n",
       "      <th>host_response_rate</th>\n",
       "      <th>instant_bookable</th>\n",
       "      <th>latitude</th>\n",
       "      <th>longitude</th>\n",
       "      <th>number_of_reviews</th>\n",
       "      <th>review_scores_rating</th>\n",
       "      <th>bedrooms</th>\n",
       "      <th>beds</th>\n",
       "    </tr>\n",
       "  </thead>\n",
       "  <tbody>\n",
       "    <tr>\n",
       "      <th>0</th>\n",
       "      <td>5.010635</td>\n",
       "      <td>Apartment</td>\n",
       "      <td>Entire home/apt</td>\n",
       "      <td>{\"Wireless Internet\",\"Air conditioning\",Kitche...</td>\n",
       "      <td>3</td>\n",
       "      <td>1.0</td>\n",
       "      <td>Real Bed</td>\n",
       "      <td>strict</td>\n",
       "      <td>True</td>\n",
       "      <td>NYC</td>\n",
       "      <td>True</td>\n",
       "      <td>0.94352</td>\n",
       "      <td>0</td>\n",
       "      <td>40.696524</td>\n",
       "      <td>-73.991617</td>\n",
       "      <td>2</td>\n",
       "      <td>100.0</td>\n",
       "      <td>1.0</td>\n",
       "      <td>1.0</td>\n",
       "    </tr>\n",
       "    <tr>\n",
       "      <th>1</th>\n",
       "      <td>5.129899</td>\n",
       "      <td>Apartment</td>\n",
       "      <td>Entire home/apt</td>\n",
       "      <td>{\"Wireless Internet\",\"Air conditioning\",Kitche...</td>\n",
       "      <td>7</td>\n",
       "      <td>1.0</td>\n",
       "      <td>Real Bed</td>\n",
       "      <td>strict</td>\n",
       "      <td>True</td>\n",
       "      <td>NYC</td>\n",
       "      <td>False</td>\n",
       "      <td>1.00000</td>\n",
       "      <td>1</td>\n",
       "      <td>40.766115</td>\n",
       "      <td>-73.989040</td>\n",
       "      <td>6</td>\n",
       "      <td>93.0</td>\n",
       "      <td>3.0</td>\n",
       "      <td>3.0</td>\n",
       "    </tr>\n",
       "    <tr>\n",
       "      <th>2</th>\n",
       "      <td>4.976734</td>\n",
       "      <td>Apartment</td>\n",
       "      <td>Entire home/apt</td>\n",
       "      <td>{TV,\"Cable TV\",\"Wireless Internet\",\"Air condit...</td>\n",
       "      <td>5</td>\n",
       "      <td>1.0</td>\n",
       "      <td>Real Bed</td>\n",
       "      <td>moderate</td>\n",
       "      <td>True</td>\n",
       "      <td>NYC</td>\n",
       "      <td>True</td>\n",
       "      <td>1.00000</td>\n",
       "      <td>1</td>\n",
       "      <td>40.808110</td>\n",
       "      <td>-73.943756</td>\n",
       "      <td>10</td>\n",
       "      <td>92.0</td>\n",
       "      <td>1.0</td>\n",
       "      <td>3.0</td>\n",
       "    </tr>\n",
       "    <tr>\n",
       "      <th>3</th>\n",
       "      <td>6.620073</td>\n",
       "      <td>House</td>\n",
       "      <td>Entire home/apt</td>\n",
       "      <td>{TV,\"Cable TV\",Internet,\"Wireless Internet\",Ki...</td>\n",
       "      <td>4</td>\n",
       "      <td>1.0</td>\n",
       "      <td>Real Bed</td>\n",
       "      <td>flexible</td>\n",
       "      <td>True</td>\n",
       "      <td>SF</td>\n",
       "      <td>True</td>\n",
       "      <td>0.94352</td>\n",
       "      <td>0</td>\n",
       "      <td>37.772004</td>\n",
       "      <td>-122.431619</td>\n",
       "      <td>0</td>\n",
       "      <td>0.0</td>\n",
       "      <td>2.0</td>\n",
       "      <td>2.0</td>\n",
       "    </tr>\n",
       "    <tr>\n",
       "      <th>4</th>\n",
       "      <td>4.744932</td>\n",
       "      <td>Apartment</td>\n",
       "      <td>Entire home/apt</td>\n",
       "      <td>{TV,Internet,\"Wireless Internet\",\"Air conditio...</td>\n",
       "      <td>2</td>\n",
       "      <td>1.0</td>\n",
       "      <td>Real Bed</td>\n",
       "      <td>moderate</td>\n",
       "      <td>True</td>\n",
       "      <td>DC</td>\n",
       "      <td>True</td>\n",
       "      <td>1.00000</td>\n",
       "      <td>1</td>\n",
       "      <td>38.925627</td>\n",
       "      <td>-77.034596</td>\n",
       "      <td>4</td>\n",
       "      <td>40.0</td>\n",
       "      <td>0.0</td>\n",
       "      <td>1.0</td>\n",
       "    </tr>\n",
       "    <tr>\n",
       "      <th>...</th>\n",
       "      <td>...</td>\n",
       "      <td>...</td>\n",
       "      <td>...</td>\n",
       "      <td>...</td>\n",
       "      <td>...</td>\n",
       "      <td>...</td>\n",
       "      <td>...</td>\n",
       "      <td>...</td>\n",
       "      <td>...</td>\n",
       "      <td>...</td>\n",
       "      <td>...</td>\n",
       "      <td>...</td>\n",
       "      <td>...</td>\n",
       "      <td>...</td>\n",
       "      <td>...</td>\n",
       "      <td>...</td>\n",
       "      <td>...</td>\n",
       "      <td>...</td>\n",
       "      <td>...</td>\n",
       "    </tr>\n",
       "    <tr>\n",
       "      <th>74106</th>\n",
       "      <td>4.605170</td>\n",
       "      <td>Apartment</td>\n",
       "      <td>Private room</td>\n",
       "      <td>{}</td>\n",
       "      <td>1</td>\n",
       "      <td>1.0</td>\n",
       "      <td>Real Bed</td>\n",
       "      <td>flexible</td>\n",
       "      <td>False</td>\n",
       "      <td>NYC</td>\n",
       "      <td>True</td>\n",
       "      <td>0.94352</td>\n",
       "      <td>0</td>\n",
       "      <td>40.709025</td>\n",
       "      <td>-73.939405</td>\n",
       "      <td>0</td>\n",
       "      <td>0.0</td>\n",
       "      <td>1.0</td>\n",
       "      <td>1.0</td>\n",
       "    </tr>\n",
       "    <tr>\n",
       "      <th>74107</th>\n",
       "      <td>5.043425</td>\n",
       "      <td>Apartment</td>\n",
       "      <td>Entire home/apt</td>\n",
       "      <td>{TV,\"Cable TV\",Internet,\"Wireless Internet\",Ki...</td>\n",
       "      <td>4</td>\n",
       "      <td>2.0</td>\n",
       "      <td>Real Bed</td>\n",
       "      <td>moderate</td>\n",
       "      <td>True</td>\n",
       "      <td>LA</td>\n",
       "      <td>False</td>\n",
       "      <td>1.00000</td>\n",
       "      <td>0</td>\n",
       "      <td>33.871549</td>\n",
       "      <td>-118.396053</td>\n",
       "      <td>16</td>\n",
       "      <td>93.0</td>\n",
       "      <td>2.0</td>\n",
       "      <td>4.0</td>\n",
       "    </tr>\n",
       "    <tr>\n",
       "      <th>74108</th>\n",
       "      <td>5.220356</td>\n",
       "      <td>Apartment</td>\n",
       "      <td>Entire home/apt</td>\n",
       "      <td>{TV,Internet,\"Wireless Internet\",\"Air conditio...</td>\n",
       "      <td>5</td>\n",
       "      <td>1.0</td>\n",
       "      <td>Real Bed</td>\n",
       "      <td>moderate</td>\n",
       "      <td>True</td>\n",
       "      <td>NYC</td>\n",
       "      <td>True</td>\n",
       "      <td>1.00000</td>\n",
       "      <td>1</td>\n",
       "      <td>40.706749</td>\n",
       "      <td>-73.942377</td>\n",
       "      <td>43</td>\n",
       "      <td>94.0</td>\n",
       "      <td>2.0</td>\n",
       "      <td>2.0</td>\n",
       "    </tr>\n",
       "    <tr>\n",
       "      <th>74109</th>\n",
       "      <td>5.273000</td>\n",
       "      <td>Apartment</td>\n",
       "      <td>Entire home/apt</td>\n",
       "      <td>{TV,\"Wireless Internet\",\"Air conditioning\",Kit...</td>\n",
       "      <td>2</td>\n",
       "      <td>1.0</td>\n",
       "      <td>Real Bed</td>\n",
       "      <td>strict</td>\n",
       "      <td>True</td>\n",
       "      <td>NYC</td>\n",
       "      <td>False</td>\n",
       "      <td>1.00000</td>\n",
       "      <td>1</td>\n",
       "      <td>40.738535</td>\n",
       "      <td>-74.000157</td>\n",
       "      <td>0</td>\n",
       "      <td>0.0</td>\n",
       "      <td>0.0</td>\n",
       "      <td>2.0</td>\n",
       "    </tr>\n",
       "    <tr>\n",
       "      <th>74110</th>\n",
       "      <td>4.852030</td>\n",
       "      <td>Boat</td>\n",
       "      <td>Entire home/apt</td>\n",
       "      <td>{TV,Internet,\"Wireless Internet\",Kitchen,\"Free...</td>\n",
       "      <td>4</td>\n",
       "      <td>1.0</td>\n",
       "      <td>Real Bed</td>\n",
       "      <td>moderate</td>\n",
       "      <td>False</td>\n",
       "      <td>LA</td>\n",
       "      <td>True</td>\n",
       "      <td>1.00000</td>\n",
       "      <td>0</td>\n",
       "      <td>33.761096</td>\n",
       "      <td>-118.192409</td>\n",
       "      <td>205</td>\n",
       "      <td>96.0</td>\n",
       "      <td>1.0</td>\n",
       "      <td>2.0</td>\n",
       "    </tr>\n",
       "  </tbody>\n",
       "</table>\n",
       "<p>74111 rows × 19 columns</p>\n",
       "</div>"
      ],
      "text/plain": [
       "       log_price property_type        room_type  \\\n",
       "0       5.010635     Apartment  Entire home/apt   \n",
       "1       5.129899     Apartment  Entire home/apt   \n",
       "2       4.976734     Apartment  Entire home/apt   \n",
       "3       6.620073         House  Entire home/apt   \n",
       "4       4.744932     Apartment  Entire home/apt   \n",
       "...          ...           ...              ...   \n",
       "74106   4.605170     Apartment     Private room   \n",
       "74107   5.043425     Apartment  Entire home/apt   \n",
       "74108   5.220356     Apartment  Entire home/apt   \n",
       "74109   5.273000     Apartment  Entire home/apt   \n",
       "74110   4.852030          Boat  Entire home/apt   \n",
       "\n",
       "                                               amenities  accommodates  \\\n",
       "0      {\"Wireless Internet\",\"Air conditioning\",Kitche...             3   \n",
       "1      {\"Wireless Internet\",\"Air conditioning\",Kitche...             7   \n",
       "2      {TV,\"Cable TV\",\"Wireless Internet\",\"Air condit...             5   \n",
       "3      {TV,\"Cable TV\",Internet,\"Wireless Internet\",Ki...             4   \n",
       "4      {TV,Internet,\"Wireless Internet\",\"Air conditio...             2   \n",
       "...                                                  ...           ...   \n",
       "74106                                                 {}             1   \n",
       "74107  {TV,\"Cable TV\",Internet,\"Wireless Internet\",Ki...             4   \n",
       "74108  {TV,Internet,\"Wireless Internet\",\"Air conditio...             5   \n",
       "74109  {TV,\"Wireless Internet\",\"Air conditioning\",Kit...             2   \n",
       "74110  {TV,Internet,\"Wireless Internet\",Kitchen,\"Free...             4   \n",
       "\n",
       "       bathrooms  bed_type cancellation_policy  cleaning_fee city  \\\n",
       "0            1.0  Real Bed              strict          True  NYC   \n",
       "1            1.0  Real Bed              strict          True  NYC   \n",
       "2            1.0  Real Bed            moderate          True  NYC   \n",
       "3            1.0  Real Bed            flexible          True   SF   \n",
       "4            1.0  Real Bed            moderate          True   DC   \n",
       "...          ...       ...                 ...           ...  ...   \n",
       "74106        1.0  Real Bed            flexible         False  NYC   \n",
       "74107        2.0  Real Bed            moderate          True   LA   \n",
       "74108        1.0  Real Bed            moderate          True  NYC   \n",
       "74109        1.0  Real Bed              strict          True  NYC   \n",
       "74110        1.0  Real Bed            moderate         False   LA   \n",
       "\n",
       "       host_identity_verified  host_response_rate  instant_bookable  \\\n",
       "0                        True             0.94352                 0   \n",
       "1                       False             1.00000                 1   \n",
       "2                        True             1.00000                 1   \n",
       "3                        True             0.94352                 0   \n",
       "4                        True             1.00000                 1   \n",
       "...                       ...                 ...               ...   \n",
       "74106                    True             0.94352                 0   \n",
       "74107                   False             1.00000                 0   \n",
       "74108                    True             1.00000                 1   \n",
       "74109                   False             1.00000                 1   \n",
       "74110                    True             1.00000                 0   \n",
       "\n",
       "        latitude   longitude  number_of_reviews  review_scores_rating  \\\n",
       "0      40.696524  -73.991617                  2                 100.0   \n",
       "1      40.766115  -73.989040                  6                  93.0   \n",
       "2      40.808110  -73.943756                 10                  92.0   \n",
       "3      37.772004 -122.431619                  0                   0.0   \n",
       "4      38.925627  -77.034596                  4                  40.0   \n",
       "...          ...         ...                ...                   ...   \n",
       "74106  40.709025  -73.939405                  0                   0.0   \n",
       "74107  33.871549 -118.396053                 16                  93.0   \n",
       "74108  40.706749  -73.942377                 43                  94.0   \n",
       "74109  40.738535  -74.000157                  0                   0.0   \n",
       "74110  33.761096 -118.192409                205                  96.0   \n",
       "\n",
       "       bedrooms  beds  \n",
       "0           1.0   1.0  \n",
       "1           3.0   3.0  \n",
       "2           1.0   3.0  \n",
       "3           2.0   2.0  \n",
       "4           0.0   1.0  \n",
       "...         ...   ...  \n",
       "74106       1.0   1.0  \n",
       "74107       2.0   4.0  \n",
       "74108       2.0   2.0  \n",
       "74109       0.0   2.0  \n",
       "74110       1.0   2.0  \n",
       "\n",
       "[74111 rows x 19 columns]"
      ]
     },
     "execution_count": 295,
     "metadata": {},
     "output_type": "execute_result"
    }
   ],
   "source": [
    "df1"
   ]
  },
  {
   "cell_type": "markdown",
   "metadata": {},
   "source": [
    "> #### 8.amenities"
   ]
  },
  {
   "cell_type": "code",
   "execution_count": 296,
   "metadata": {},
   "outputs": [],
   "source": [
    "amenities_count = []\n",
    "for i in df[\"amenities\"]:\n",
    "    amenities_count.append(len(i))"
   ]
  },
  {
   "cell_type": "code",
   "execution_count": 297,
   "metadata": {},
   "outputs": [
    {
     "data": {
      "text/plain": [
       "74111"
      ]
     },
     "execution_count": 297,
     "metadata": {},
     "output_type": "execute_result"
    }
   ],
   "source": [
    "len(amenities_count)"
   ]
  },
  {
   "cell_type": "code",
   "execution_count": 298,
   "metadata": {},
   "outputs": [],
   "source": [
    "df1[\"amenities\"] = amenities_count"
   ]
  },
  {
   "cell_type": "markdown",
   "metadata": {},
   "source": [
    "# 9.Factorization of categorical columns"
   ]
  },
  {
   "cell_type": "markdown",
   "metadata": {},
   "source": [
    "### 1- room_type"
   ]
  },
  {
   "cell_type": "code",
   "execution_count": 299,
   "metadata": {},
   "outputs": [
    {
     "data": {
      "text/plain": [
       "array(['Entire home/apt', 'Private room', 'Shared room'], dtype=object)"
      ]
     },
     "execution_count": 299,
     "metadata": {},
     "output_type": "execute_result"
    }
   ],
   "source": [
    "df1.room_type.unique()"
   ]
  },
  {
   "cell_type": "code",
   "execution_count": 300,
   "metadata": {},
   "outputs": [],
   "source": [
    "def room_type_cleaning(x):\n",
    "    if x=='Entire home/apt':\n",
    "        x= 3\n",
    "    elif x=='Private room':\n",
    "        x= 2\n",
    "    elif x=='Shared room':\n",
    "        x= 1\n",
    "    return x\n",
    "df1['room_type']=df1['room_type'].map(lambda x: room_type_cleaning(x))"
   ]
  },
  {
   "cell_type": "code",
   "execution_count": 301,
   "metadata": {},
   "outputs": [],
   "source": [
    "#df1.room_type = df1.room_type.apply(lambda x: 3 if x=='Entire home/apt' else 2 if x=='Private room' else 1)"
   ]
  },
  {
   "cell_type": "code",
   "execution_count": 302,
   "metadata": {},
   "outputs": [
    {
     "data": {
      "text/plain": [
       "array(['Real Bed', 'Futon', 'Pull-out Sofa', 'Couch', 'Airbed'],\n",
       "      dtype=object)"
      ]
     },
     "execution_count": 302,
     "metadata": {},
     "output_type": "execute_result"
    }
   ],
   "source": [
    "df1.bed_type.unique()"
   ]
  },
  {
   "cell_type": "markdown",
   "metadata": {},
   "source": [
    "### 2- bed_type"
   ]
  },
  {
   "cell_type": "code",
   "execution_count": 303,
   "metadata": {},
   "outputs": [],
   "source": [
    "df1.bed_type = df.bed_type.map(lambda x: 2 if x=='Real Bed' else 1)"
   ]
  },
  {
   "cell_type": "code",
   "execution_count": 304,
   "metadata": {
    "scrolled": true
   },
   "outputs": [
    {
     "data": {
      "text/html": [
       "<div>\n",
       "<style scoped>\n",
       "    .dataframe tbody tr th:only-of-type {\n",
       "        vertical-align: middle;\n",
       "    }\n",
       "\n",
       "    .dataframe tbody tr th {\n",
       "        vertical-align: top;\n",
       "    }\n",
       "\n",
       "    .dataframe thead th {\n",
       "        text-align: right;\n",
       "    }\n",
       "</style>\n",
       "<table border=\"1\" class=\"dataframe\">\n",
       "  <thead>\n",
       "    <tr style=\"text-align: right;\">\n",
       "      <th></th>\n",
       "      <th>log_price</th>\n",
       "      <th>property_type</th>\n",
       "      <th>room_type</th>\n",
       "      <th>amenities</th>\n",
       "      <th>accommodates</th>\n",
       "      <th>bathrooms</th>\n",
       "      <th>bed_type</th>\n",
       "      <th>cancellation_policy</th>\n",
       "      <th>cleaning_fee</th>\n",
       "      <th>city</th>\n",
       "      <th>host_identity_verified</th>\n",
       "      <th>host_response_rate</th>\n",
       "      <th>instant_bookable</th>\n",
       "      <th>latitude</th>\n",
       "      <th>longitude</th>\n",
       "      <th>number_of_reviews</th>\n",
       "      <th>review_scores_rating</th>\n",
       "      <th>bedrooms</th>\n",
       "      <th>beds</th>\n",
       "    </tr>\n",
       "  </thead>\n",
       "  <tbody>\n",
       "    <tr>\n",
       "      <th>0</th>\n",
       "      <td>5.010635</td>\n",
       "      <td>Apartment</td>\n",
       "      <td>3</td>\n",
       "      <td>152</td>\n",
       "      <td>3</td>\n",
       "      <td>1.0</td>\n",
       "      <td>2</td>\n",
       "      <td>strict</td>\n",
       "      <td>True</td>\n",
       "      <td>NYC</td>\n",
       "      <td>True</td>\n",
       "      <td>0.94352</td>\n",
       "      <td>0</td>\n",
       "      <td>40.696524</td>\n",
       "      <td>-73.991617</td>\n",
       "      <td>2</td>\n",
       "      <td>100.0</td>\n",
       "      <td>1.0</td>\n",
       "      <td>1.0</td>\n",
       "    </tr>\n",
       "    <tr>\n",
       "      <th>1</th>\n",
       "      <td>5.129899</td>\n",
       "      <td>Apartment</td>\n",
       "      <td>3</td>\n",
       "      <td>218</td>\n",
       "      <td>7</td>\n",
       "      <td>1.0</td>\n",
       "      <td>2</td>\n",
       "      <td>strict</td>\n",
       "      <td>True</td>\n",
       "      <td>NYC</td>\n",
       "      <td>False</td>\n",
       "      <td>1.00000</td>\n",
       "      <td>1</td>\n",
       "      <td>40.766115</td>\n",
       "      <td>-73.989040</td>\n",
       "      <td>6</td>\n",
       "      <td>93.0</td>\n",
       "      <td>3.0</td>\n",
       "      <td>3.0</td>\n",
       "    </tr>\n",
       "    <tr>\n",
       "      <th>2</th>\n",
       "      <td>4.976734</td>\n",
       "      <td>Apartment</td>\n",
       "      <td>3</td>\n",
       "      <td>311</td>\n",
       "      <td>5</td>\n",
       "      <td>1.0</td>\n",
       "      <td>2</td>\n",
       "      <td>moderate</td>\n",
       "      <td>True</td>\n",
       "      <td>NYC</td>\n",
       "      <td>True</td>\n",
       "      <td>1.00000</td>\n",
       "      <td>1</td>\n",
       "      <td>40.808110</td>\n",
       "      <td>-73.943756</td>\n",
       "      <td>10</td>\n",
       "      <td>92.0</td>\n",
       "      <td>1.0</td>\n",
       "      <td>3.0</td>\n",
       "    </tr>\n",
       "    <tr>\n",
       "      <th>3</th>\n",
       "      <td>6.620073</td>\n",
       "      <td>House</td>\n",
       "      <td>3</td>\n",
       "      <td>210</td>\n",
       "      <td>4</td>\n",
       "      <td>1.0</td>\n",
       "      <td>2</td>\n",
       "      <td>flexible</td>\n",
       "      <td>True</td>\n",
       "      <td>SF</td>\n",
       "      <td>True</td>\n",
       "      <td>0.94352</td>\n",
       "      <td>0</td>\n",
       "      <td>37.772004</td>\n",
       "      <td>-122.431619</td>\n",
       "      <td>0</td>\n",
       "      <td>0.0</td>\n",
       "      <td>2.0</td>\n",
       "      <td>2.0</td>\n",
       "    </tr>\n",
       "    <tr>\n",
       "      <th>4</th>\n",
       "      <td>4.744932</td>\n",
       "      <td>Apartment</td>\n",
       "      <td>3</td>\n",
       "      <td>174</td>\n",
       "      <td>2</td>\n",
       "      <td>1.0</td>\n",
       "      <td>2</td>\n",
       "      <td>moderate</td>\n",
       "      <td>True</td>\n",
       "      <td>DC</td>\n",
       "      <td>True</td>\n",
       "      <td>1.00000</td>\n",
       "      <td>1</td>\n",
       "      <td>38.925627</td>\n",
       "      <td>-77.034596</td>\n",
       "      <td>4</td>\n",
       "      <td>40.0</td>\n",
       "      <td>0.0</td>\n",
       "      <td>1.0</td>\n",
       "    </tr>\n",
       "    <tr>\n",
       "      <th>...</th>\n",
       "      <td>...</td>\n",
       "      <td>...</td>\n",
       "      <td>...</td>\n",
       "      <td>...</td>\n",
       "      <td>...</td>\n",
       "      <td>...</td>\n",
       "      <td>...</td>\n",
       "      <td>...</td>\n",
       "      <td>...</td>\n",
       "      <td>...</td>\n",
       "      <td>...</td>\n",
       "      <td>...</td>\n",
       "      <td>...</td>\n",
       "      <td>...</td>\n",
       "      <td>...</td>\n",
       "      <td>...</td>\n",
       "      <td>...</td>\n",
       "      <td>...</td>\n",
       "      <td>...</td>\n",
       "    </tr>\n",
       "    <tr>\n",
       "      <th>74106</th>\n",
       "      <td>4.605170</td>\n",
       "      <td>Apartment</td>\n",
       "      <td>2</td>\n",
       "      <td>2</td>\n",
       "      <td>1</td>\n",
       "      <td>1.0</td>\n",
       "      <td>2</td>\n",
       "      <td>flexible</td>\n",
       "      <td>False</td>\n",
       "      <td>NYC</td>\n",
       "      <td>True</td>\n",
       "      <td>0.94352</td>\n",
       "      <td>0</td>\n",
       "      <td>40.709025</td>\n",
       "      <td>-73.939405</td>\n",
       "      <td>0</td>\n",
       "      <td>0.0</td>\n",
       "      <td>1.0</td>\n",
       "      <td>1.0</td>\n",
       "    </tr>\n",
       "    <tr>\n",
       "      <th>74107</th>\n",
       "      <td>5.043425</td>\n",
       "      <td>Apartment</td>\n",
       "      <td>3</td>\n",
       "      <td>224</td>\n",
       "      <td>4</td>\n",
       "      <td>2.0</td>\n",
       "      <td>2</td>\n",
       "      <td>moderate</td>\n",
       "      <td>True</td>\n",
       "      <td>LA</td>\n",
       "      <td>False</td>\n",
       "      <td>1.00000</td>\n",
       "      <td>0</td>\n",
       "      <td>33.871549</td>\n",
       "      <td>-118.396053</td>\n",
       "      <td>16</td>\n",
       "      <td>93.0</td>\n",
       "      <td>2.0</td>\n",
       "      <td>4.0</td>\n",
       "    </tr>\n",
       "    <tr>\n",
       "      <th>74108</th>\n",
       "      <td>5.220356</td>\n",
       "      <td>Apartment</td>\n",
       "      <td>3</td>\n",
       "      <td>402</td>\n",
       "      <td>5</td>\n",
       "      <td>1.0</td>\n",
       "      <td>2</td>\n",
       "      <td>moderate</td>\n",
       "      <td>True</td>\n",
       "      <td>NYC</td>\n",
       "      <td>True</td>\n",
       "      <td>1.00000</td>\n",
       "      <td>1</td>\n",
       "      <td>40.706749</td>\n",
       "      <td>-73.942377</td>\n",
       "      <td>43</td>\n",
       "      <td>94.0</td>\n",
       "      <td>2.0</td>\n",
       "      <td>2.0</td>\n",
       "    </tr>\n",
       "    <tr>\n",
       "      <th>74109</th>\n",
       "      <td>5.273000</td>\n",
       "      <td>Apartment</td>\n",
       "      <td>3</td>\n",
       "      <td>189</td>\n",
       "      <td>2</td>\n",
       "      <td>1.0</td>\n",
       "      <td>2</td>\n",
       "      <td>strict</td>\n",
       "      <td>True</td>\n",
       "      <td>NYC</td>\n",
       "      <td>False</td>\n",
       "      <td>1.00000</td>\n",
       "      <td>1</td>\n",
       "      <td>40.738535</td>\n",
       "      <td>-74.000157</td>\n",
       "      <td>0</td>\n",
       "      <td>0.0</td>\n",
       "      <td>0.0</td>\n",
       "      <td>2.0</td>\n",
       "    </tr>\n",
       "    <tr>\n",
       "      <th>74110</th>\n",
       "      <td>4.852030</td>\n",
       "      <td>Boat</td>\n",
       "      <td>3</td>\n",
       "      <td>279</td>\n",
       "      <td>4</td>\n",
       "      <td>1.0</td>\n",
       "      <td>2</td>\n",
       "      <td>moderate</td>\n",
       "      <td>False</td>\n",
       "      <td>LA</td>\n",
       "      <td>True</td>\n",
       "      <td>1.00000</td>\n",
       "      <td>0</td>\n",
       "      <td>33.761096</td>\n",
       "      <td>-118.192409</td>\n",
       "      <td>205</td>\n",
       "      <td>96.0</td>\n",
       "      <td>1.0</td>\n",
       "      <td>2.0</td>\n",
       "    </tr>\n",
       "  </tbody>\n",
       "</table>\n",
       "<p>74111 rows × 19 columns</p>\n",
       "</div>"
      ],
      "text/plain": [
       "       log_price property_type  room_type  amenities  accommodates  bathrooms  \\\n",
       "0       5.010635     Apartment          3        152             3        1.0   \n",
       "1       5.129899     Apartment          3        218             7        1.0   \n",
       "2       4.976734     Apartment          3        311             5        1.0   \n",
       "3       6.620073         House          3        210             4        1.0   \n",
       "4       4.744932     Apartment          3        174             2        1.0   \n",
       "...          ...           ...        ...        ...           ...        ...   \n",
       "74106   4.605170     Apartment          2          2             1        1.0   \n",
       "74107   5.043425     Apartment          3        224             4        2.0   \n",
       "74108   5.220356     Apartment          3        402             5        1.0   \n",
       "74109   5.273000     Apartment          3        189             2        1.0   \n",
       "74110   4.852030          Boat          3        279             4        1.0   \n",
       "\n",
       "       bed_type cancellation_policy  cleaning_fee city  \\\n",
       "0             2              strict          True  NYC   \n",
       "1             2              strict          True  NYC   \n",
       "2             2            moderate          True  NYC   \n",
       "3             2            flexible          True   SF   \n",
       "4             2            moderate          True   DC   \n",
       "...         ...                 ...           ...  ...   \n",
       "74106         2            flexible         False  NYC   \n",
       "74107         2            moderate          True   LA   \n",
       "74108         2            moderate          True  NYC   \n",
       "74109         2              strict          True  NYC   \n",
       "74110         2            moderate         False   LA   \n",
       "\n",
       "       host_identity_verified  host_response_rate  instant_bookable  \\\n",
       "0                        True             0.94352                 0   \n",
       "1                       False             1.00000                 1   \n",
       "2                        True             1.00000                 1   \n",
       "3                        True             0.94352                 0   \n",
       "4                        True             1.00000                 1   \n",
       "...                       ...                 ...               ...   \n",
       "74106                    True             0.94352                 0   \n",
       "74107                   False             1.00000                 0   \n",
       "74108                    True             1.00000                 1   \n",
       "74109                   False             1.00000                 1   \n",
       "74110                    True             1.00000                 0   \n",
       "\n",
       "        latitude   longitude  number_of_reviews  review_scores_rating  \\\n",
       "0      40.696524  -73.991617                  2                 100.0   \n",
       "1      40.766115  -73.989040                  6                  93.0   \n",
       "2      40.808110  -73.943756                 10                  92.0   \n",
       "3      37.772004 -122.431619                  0                   0.0   \n",
       "4      38.925627  -77.034596                  4                  40.0   \n",
       "...          ...         ...                ...                   ...   \n",
       "74106  40.709025  -73.939405                  0                   0.0   \n",
       "74107  33.871549 -118.396053                 16                  93.0   \n",
       "74108  40.706749  -73.942377                 43                  94.0   \n",
       "74109  40.738535  -74.000157                  0                   0.0   \n",
       "74110  33.761096 -118.192409                205                  96.0   \n",
       "\n",
       "       bedrooms  beds  \n",
       "0           1.0   1.0  \n",
       "1           3.0   3.0  \n",
       "2           1.0   3.0  \n",
       "3           2.0   2.0  \n",
       "4           0.0   1.0  \n",
       "...         ...   ...  \n",
       "74106       1.0   1.0  \n",
       "74107       2.0   4.0  \n",
       "74108       2.0   2.0  \n",
       "74109       0.0   2.0  \n",
       "74110       1.0   2.0  \n",
       "\n",
       "[74111 rows x 19 columns]"
      ]
     },
     "execution_count": 304,
     "metadata": {},
     "output_type": "execute_result"
    }
   ],
   "source": [
    "df1"
   ]
  },
  {
   "cell_type": "markdown",
   "metadata": {},
   "source": [
    "### 3- city"
   ]
  },
  {
   "cell_type": "code",
   "execution_count": 305,
   "metadata": {},
   "outputs": [],
   "source": [
    "df1 = pd.concat([df1, pd.get_dummies(df1['city'], prefix='city')],axis=1)"
   ]
  },
  {
   "cell_type": "code",
   "execution_count": 306,
   "metadata": {},
   "outputs": [],
   "source": [
    "#df1 = df1.drop(['city'],axis=1)"
   ]
  },
  {
   "cell_type": "markdown",
   "metadata": {},
   "source": [
    "## 4- property_type"
   ]
  },
  {
   "cell_type": "code",
   "execution_count": 308,
   "metadata": {},
   "outputs": [
    {
     "ename": "IndentationError",
     "evalue": "unindent does not match any outer indentation level (<tokenize>, line 4)",
     "output_type": "error",
     "traceback": [
      "\u001b[0;36m  File \u001b[0;32m\"<tokenize>\"\u001b[0;36m, line \u001b[0;32m4\u001b[0m\n\u001b[0;31m    'Hotel2':['Boutique hotel','Bed & Breakfast'],\u001b[0m\n\u001b[0m    ^\u001b[0m\n\u001b[0;31mIndentationError\u001b[0m\u001b[0;31m:\u001b[0m unindent does not match any outer indentation level\n"
     ]
    }
   ],
   "source": [
    "#dict1 = {'Apartment':['Condominium','Timeshare','Loft','Serviced apartment','Guest suite'],\n",
    "         'House':['Vacation home','Villa','Townhouse','In-law','Casa particular'],\n",
    "         'Hotel1':['Dorm','Hostel','Guesthouse'],\n",
    "    'Hotel2':['Boutique hotel','Bed & Breakfast'],\n",
    "         'Other':['Island','Castle','Yurt','Hut','Chalet','Treehouse',\n",
    "                  'Earth House','Tipi','Cave','Train','Parking Space','Lighthouse',\n",
    "                 'Tent','Boat','Cabin','Camper/RV','Bungalow']\n",
    "                \n",
    "                }\n",
    "#dict2 = {i : k for k, v in dict1.items() for i in v}\n",
    "#df1['property_type'].replace(dict2).value_counts()"
   ]
  },
  {
   "cell_type": "code",
   "execution_count": null,
   "metadata": {
    "scrolled": true
   },
   "outputs": [],
   "source": [
    "df1.cancellation_policy.unique()"
   ]
  },
  {
   "cell_type": "markdown",
   "metadata": {},
   "source": [
    "## 5-cancellation_policy"
   ]
  },
  {
   "cell_type": "code",
   "execution_count": null,
   "metadata": {},
   "outputs": [],
   "source": [
    "def cancellation_policy_cleaning(x):\n",
    "    if x=='super_strict_60':\n",
    "        x= 5\n",
    "    elif x=='super_strict_30':\n",
    "        x= 4\n",
    "    elif x=='strict':\n",
    "        x= 3\n",
    "    elif x=='moderate':\n",
    "        x= 2\n",
    "    elif x=='flexible':\n",
    "        x= 1     \n",
    "    return x\n",
    "df1['cancellation_policy']=df1['cancellation_policy'].map(lambda x: cancellation_policy_cleaning(x))"
   ]
  },
  {
   "cell_type": "markdown",
   "metadata": {},
   "source": [
    "## 6-cleaning_fee and host_identity_verified"
   ]
  },
  {
   "cell_type": "code",
   "execution_count": null,
   "metadata": {},
   "outputs": [],
   "source": [
    "df1.replace(to_replace = True , value = 1,inplace=True) \n",
    "df1.replace(to_replace = False , value =0,inplace=True)"
   ]
  },
  {
   "cell_type": "code",
   "execution_count": null,
   "metadata": {},
   "outputs": [],
   "source": [
    "df1.isnull().sum()"
   ]
  }
 ],
 "metadata": {
  "kernelspec": {
   "display_name": "Python 3",
   "language": "python",
   "name": "python3"
  },
  "language_info": {
   "codemirror_mode": {
    "name": "ipython",
    "version": 3
   },
   "file_extension": ".py",
   "mimetype": "text/x-python",
   "name": "python",
   "nbconvert_exporter": "python",
   "pygments_lexer": "ipython3",
   "version": "3.8.5"
  }
 },
 "nbformat": 4,
 "nbformat_minor": 4
}
